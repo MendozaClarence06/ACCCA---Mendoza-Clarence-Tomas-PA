{
 "cells": [
  {
   "cell_type": "code",
   "execution_count": 1,
   "id": "6aee7ca6-a07e-40e4-b5ac-22b5947ea8f3",
   "metadata": {},
   "outputs": [],
   "source": [
    "THIS IS FOR ALPHABETICAL ALBET ORDER"
   ]
  },
  {
   "cell_type": "code",
   "execution_count": 2,
   "id": "5075647a-3c32-4c2c-be62-a9317f09bae3",
   "metadata": {},
   "outputs": [],
   "source": [
    "def order (message): #This is to make a function for order\n",
    "    letters = list(message) #Converts the string to a list or separate letters\n",
    "    letters.sort() #code to sort them in alphabetical order\n",
    "    return \"\".join(letters) #This is to join or make the list of letter to a single string again"
   ]
  },
  {
   "cell_type": "code",
   "execution_count": 3,
   "id": "7c09f916-2462-4ae1-9daf-907d08d12f49",
   "metadata": {},
   "outputs": [
    {
     "name": "stdin",
     "output_type": "stream",
     "text": [
      "Enter the message you want to sort:  hacker\n"
     ]
    }
   ],
   "source": [
    "message = input (\"Enter the message you want to sort: \") #User input"
   ]
  },
  {
   "cell_type": "code",
   "execution_count": 4,
   "id": "51370709-ec15-4e4f-bf5f-5b7d25cade9c",
   "metadata": {},
   "outputs": [
    {
     "name": "stdout",
     "output_type": "stream",
     "text": [
      "This is the message in alphabetical order:  acehkr\n"
     ]
    }
   ],
   "source": [
    "print (\"This is the message in alphabetical order: \", order(message)) #Print code, also use of function with returning value"
   ]
  },
  {
   "cell_type": "code",
   "execution_count": null,
   "id": "3e23c7e9-0c36-4284-85ef-e56a2872085a",
   "metadata": {},
   "outputs": [],
   "source": []
  },
  {
   "cell_type": "code",
   "execution_count": 5,
   "id": "9275bd63-d4e2-48f1-a8a4-6f57041bc5eb",
   "metadata": {},
   "outputs": [],
   "source": [
    "THIS IS FOR EMOTICON PROBLEM"
   ]
  },
  {
   "cell_type": "code",
   "execution_count": 6,
   "id": "85c54fee-773e-4834-85d1-8fdd1f4da7de",
   "metadata": {},
   "outputs": [],
   "source": [
    "def emoticons (sentence): #Make of function for use of emoticons\n",
    "    emojis = {'smile': \":)\", 'grin': \":D\", 'sad': \":(\", 'mad': \">:(\"} #Use of dictionary for each expression\n",
    "    words = sentence.split() #This is to make the sentence into separate strings for use of reading and conversion to emoticons\n",
    "    final = [emojis.get(word, word) for word in words] #Uses the dictionary for conversion of strings\n",
    "    return ' '.join(final) #To make them in a single string again, with a space for better reading"
   ]
  },
  {
   "cell_type": "code",
   "execution_count": 7,
   "id": "49cbceeb-1055-46f0-ab41-01e1f9f6b21b",
   "metadata": {},
   "outputs": [
    {
     "name": "stdin",
     "output_type": "stream",
     "text": [
      "Type here:  Make me smile\n"
     ]
    }
   ],
   "source": [
    "sentence = input(\"Type here: \") #User input"
   ]
  },
  {
   "cell_type": "code",
   "execution_count": 8,
   "id": "9a6cef78-d0e9-4329-8b76-9c150a7f3e0a",
   "metadata": {},
   "outputs": [
    {
     "name": "stdout",
     "output_type": "stream",
     "text": [
      "Make me :)\n"
     ]
    }
   ],
   "source": [
    "print (emoticons(sentence)) #Use of print to show the user, while sending variable sentence for use of function"
   ]
  },
  {
   "cell_type": "code",
   "execution_count": null,
   "id": "fdb75b12-05ed-4401-9cf8-2b912ff6e151",
   "metadata": {},
   "outputs": [],
   "source": []
  },
  {
   "cell_type": "code",
   "execution_count": 9,
   "id": "4bc75a38-66a3-4c28-9308-2b95c869ff02",
   "metadata": {},
   "outputs": [],
   "source": [
    "THIS IS FOR UNPACKING PROBLEM"
   ]
  },
  {
   "cell_type": "code",
   "execution_count": 14,
   "id": "01163eb8-0fde-4641-a868-c8d5d4933b8e",
   "metadata": {},
   "outputs": [
    {
     "name": "stdin",
     "output_type": "stream",
     "text": [
      "Enter your list of variables here:  123456\n"
     ]
    }
   ],
   "source": [
    "inp = input (\"Enter your list of variables here: \") #User input, turned into use for code\n",
    "\n",
    "if \" \" not in inp: #These two conditions is just to insure that there are no user error (this is for without spaces)\n",
    "    orde = [int(x) for x in inp] #Turns the string to integers\n",
    "else: #This second condition is when there are spaces between numbers\n",
    "    orde = [int(x) for x in inp.split()] #Turns the string to integers but since there is space so use split instead\n",
    "\n",
    "first = orde[0] #This is where splicing is used\n",
    "middle = orde[1:-1] #From second number then ending with last\n",
    "last = orde[-1] #Last number"
   ]
  },
  {
   "cell_type": "code",
   "execution_count": 15,
   "id": "2c3dc462-bea0-445b-9939-08f6019321da",
   "metadata": {},
   "outputs": [
    {
     "name": "stdout",
     "output_type": "stream",
     "text": [
      "first: 1 middle: [2, 3, 4, 5] last: 6\n"
     ]
    }
   ],
   "source": [
    "print(\"first:\", first, \"middle:\", middle, \"last:\", last)"
   ]
  },
  {
   "cell_type": "code",
   "execution_count": null,
   "id": "e39c8050-8431-4687-be97-c8696716a6e9",
   "metadata": {},
   "outputs": [],
   "source": []
  }
 ],
 "metadata": {
  "kernelspec": {
   "display_name": "Python 3 (ipykernel)",
   "language": "python",
   "name": "python3"
  },
  "language_info": {
   "codemirror_mode": {
    "name": "ipython",
    "version": 3
   },
   "file_extension": ".py",
   "mimetype": "text/x-python",
   "name": "python",
   "nbconvert_exporter": "python",
   "pygments_lexer": "ipython3",
   "version": "3.13.5"
  }
 },
 "nbformat": 4,
 "nbformat_minor": 5
}
